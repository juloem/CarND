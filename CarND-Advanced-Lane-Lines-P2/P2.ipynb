{
 "cells": [
  {
   "cell_type": "markdown",
   "metadata": {},
   "source": [
    "## Advanced Lane Finding Project\n",
    "\n",
    "The goals / steps of this project are the following:\n",
    "\n",
    "* Compute the camera calibration matrix and distortion coefficients given a set of chessboard images.\n",
    "* Apply a distortion correction to raw images.\n",
    "* Use color transforms, gradients, etc., to create a thresholded binary image.\n",
    "* Apply a perspective transform to rectify binary image (\"birds-eye view\").\n",
    "* Detect lane pixels and fit to find the lane boundary.\n",
    "* Determine the curvature of the lane and vehicle position with respect to center.\n",
    "* Warp the detected lane boundaries back onto the original image.\n",
    "* Output visual display of the lane boundaries and numerical estimation of lane curvature and vehicle position.\n",
    "\n",
    "---"
   ]
  },
  {
   "cell_type": "markdown",
   "metadata": {},
   "source": [
    "## Import Packages"
   ]
  },
  {
   "cell_type": "code",
   "execution_count": 2,
   "metadata": {},
   "outputs": [],
   "source": [
    "import numpy as np\n",
    "import cv2\n",
    "import glob\n",
    "import matplotlib.pyplot as plt\n",
    "import matplotlib.image as mpimg\n",
    "%matplotlib qt"
   ]
  },
  {
   "cell_type": "markdown",
   "metadata": {},
   "source": [
    "## Camera calibration using chessboard images"
   ]
  },
  {
   "cell_type": "code",
   "execution_count": 2,
   "metadata": {},
   "outputs": [
    {
     "data": {
      "text/plain": [
       "True"
      ]
     },
     "execution_count": 2,
     "metadata": {},
     "output_type": "execute_result"
    }
   ],
   "source": [
    "# Step 1: extract object points and image points\n",
    "# prepare object points, like (0,0,0),(1,0,0),(2,0,0),...,(nx,ny,0)\n",
    "nx = 9\n",
    "ny = 6\n",
    "objp = np.zeros((nx*ny,3), np.float32)\n",
    "objp[:,:2] = np.mgrid[0:nx,0:ny].T.reshape(-1,2)\n",
    "\n",
    "# Arrays to store object points and image points from all the images.\n",
    "objpoints = [] # 3d points in real world space\n",
    "imgpoints = [] # 2d points in image plane.\n",
    "\n",
    "# Make a list of calibration images\n",
    "images = glob.glob('camera_cal/calibration*.jpg')\n",
    "\n",
    "# Step through the list and search for chessboard corners\n",
    "for fname in images:\n",
    "    img = cv2.imread(fname)\n",
    "    gray = cv2.cvtColor(img, cv2.COLOR_BGR2GRAY)\n",
    "\n",
    "    # Find the chessboard corners\n",
    "    ret, corners = cv2.findChessboardCorners(gray, (nx,ny), None)\n",
    "\n",
    "    # If found, add object points, image points\n",
    "    if ret == True:\n",
    "        objpoints.append(objp)\n",
    "        imgpoints.append(corners)\n",
    "\n",
    "        # Draw and display the corners\n",
    "        img = cv2.drawChessboardCorners(img, (nx,ny), corners, ret)\n",
    "        #cv2.imshow('img',img)\n",
    "        #cv2.waitKey(500)\n",
    "\n",
    "cv2.destroyAllWindows()\n",
    "\n",
    "# do camera calibration using object points and image points\n",
    "# test undistortion on first calibration image and save undistorted image\n",
    "img = cv2.imread('camera_cal/calibration1.jpg')\n",
    "img_size = img.shape[1::-1]\n",
    "\n",
    "\n",
    "ret, mtx, dist, rvecs, tvecs = cv2.calibrateCamera(objpoints, imgpoints, img_size, None, None)\n",
    "\n",
    "undst = cv2.undistort(img, mtx, dist, None, mtx)\n",
    "cv2.imwrite('output_images/test_undist.jpg', undst)"
   ]
  },
  {
   "cell_type": "markdown",
   "metadata": {},
   "source": [
    "## Pipeline for combined color and gradient thresholds"
   ]
  },
  {
   "cell_type": "markdown",
   "metadata": {},
   "source": [
    "### Gradient Thresholds using sobel"
   ]
  },
  {
   "cell_type": "code",
   "execution_count": 3,
   "metadata": {},
   "outputs": [],
   "source": [
    "# Define a function that takes an image, gradient orientation,\n",
    "# and threshold min / max values.\n",
    "def abs_sobel_thresh(img, orient='x', sobel_kernel=3, thresh=(0,255)):\n",
    "    # Convert to grayscale\n",
    "    gray = cv2.cvtColor(img, cv2.COLOR_RGB2GRAY)  # use if image is read in via mpimg\n",
    "    #gray = cv2.cvtColor(img, cv2.COLOR_BGR2GRAY) # use if image is read in via cv2\n",
    "    # Apply x or y gradient with the OpenCV Sobel() function\n",
    "    # and take the absolute value\n",
    "    if orient == 'x':\n",
    "        abs_sobel = np.absolute(cv2.Sobel(gray, cv2.CV_64F, 1, 0, ksize=sobel_kernel))\n",
    "    if orient == 'y':\n",
    "        abs_sobel = np.absolute(cv2.Sobel(gray, cv2.CV_64F, 0, 1, ksize=sobel_kernel))\n",
    "    # Rescale back to 8 bit integer\n",
    "    scaled_sobel = np.uint8(255*abs_sobel/np.max(abs_sobel))\n",
    "    # Create a copy and apply the threshold\n",
    "    binary_output = np.zeros_like(scaled_sobel)\n",
    "    # using exclusive (>, <) thresholds\n",
    "    binary_output[(scaled_sobel > thresh[0]) & (scaled_sobel < thresh[1])] = 1\n",
    "\n",
    "    # Return the result\n",
    "    return binary_output\n",
    "\n",
    "# Define a function to return the magnitude of the gradient\n",
    "# for a given sobel kernel size and threshold values\n",
    "def mag_thresh(img, sobel_kernel=3, thresh=(0, 255)):\n",
    "    # Convert to grayscale\n",
    "    gray = cv2.cvtColor(img, cv2.COLOR_RGB2GRAY)  # use if image is read in via mpimg\n",
    "    #gray = cv2.cvtColor(img, cv2.COLOR_BGR2GRAY) # use if image is read in via cv2\n",
    "    # Take both Sobel x and y gradients\n",
    "    sobelx = cv2.Sobel(gray, cv2.CV_64F, 1, 0, ksize=sobel_kernel)\n",
    "    sobely = cv2.Sobel(gray, cv2.CV_64F, 0, 1, ksize=sobel_kernel)\n",
    "    # Calculate the gradient magnitude\n",
    "    gradmag = np.sqrt(sobelx**2 + sobely**2)\n",
    "    # Rescale to 8 bit\n",
    "    scale_factor = np.max(gradmag)/255\n",
    "    gradmag = (gradmag/scale_factor).astype(np.uint8)\n",
    "    # Create a binary image of ones where threshold is met, zeros otherwise\n",
    "    binary_output = np.zeros_like(gradmag)\n",
    "    binary_output[(gradmag > thresh[0]) & (gradmag < thresh[1])] = 1\n",
    "\n",
    "    # Return the binary image\n",
    "    return binary_output\n",
    "\n",
    "# Define a function to threshold an image for a given range and Sobel kernel\n",
    "def dir_threshold(img, sobel_kernel=3, thresh=(0, np.pi/2)):\n",
    "    # Grayscale\n",
    "    gray = cv2.cvtColor(img, cv2.COLOR_RGB2GRAY)  # use if image is read in via mpimg\n",
    "    #gray = cv2.cvtColor(img, cv2.COLOR_BGR2GRAY) # use if image is read in via cv2\n",
    "    # Calculate the x and y gradients\n",
    "    sobelx = cv2.Sobel(gray, cv2.CV_64F, 1, 0, ksize=sobel_kernel)\n",
    "    sobely = cv2.Sobel(gray, cv2.CV_64F, 0, 1, ksize=sobel_kernel)\n",
    "    # Take the absolute value of the gradient direction,\n",
    "    # apply a threshold, and create a binary image result\n",
    "    absgraddir = np.arctan2(np.absolute(sobely), np.absolute(sobelx))\n",
    "    binary_output =  np.zeros_like(absgraddir)\n",
    "    binary_output[(absgraddir >= thresh[0]) & (absgraddir <= thresh[1])] = 1\n",
    "\n",
    "    # Return the binary image\n",
    "    return binary_output"
   ]
  },
  {
   "cell_type": "markdown",
   "metadata": {},
   "source": [
    "### Combined Sobel thresholds"
   ]
  },
  {
   "cell_type": "code",
   "execution_count": 6,
   "metadata": {},
   "outputs": [],
   "source": [
    "# read image\n",
    "image = mpimg.imread('test_images/test5.jpg')\n",
    "\n",
    "# Choose a Sobel kernel size\n",
    "ksize_abs = 3 # Choose a larger odd number to smooth gradient measurements\n",
    "ksize_mag = 9 # Choose a larger odd number to smooth gradient measurements\n",
    "ksize_dir = 15 # Choose a larger odd number to smooth gradient measurements\n",
    "\n",
    "# defines thresholds\n",
    "thresh_abs_x = (30, 180)\n",
    "thresh_abs_y = (30, 180)\n",
    "thresh_mag = (70, 120)\n",
    "thresh_dir = (np.pi/3, np.pi/2)\n",
    "\n",
    "# Apply each of the thresholding functions\n",
    "gradx = abs_sobel_thresh(image, orient='x', sobel_kernel=ksize_abs, thresh=thresh_abs_x)\n",
    "grady = abs_sobel_thresh(image, orient='y', sobel_kernel=ksize_abs, thresh=thresh_abs_y)\n",
    "mag_binary = mag_thresh(image, sobel_kernel=ksize_mag, thresh=thresh_mag)\n",
    "dir_binary = dir_threshold(image, sobel_kernel=ksize_dir, thresh=thresh_dir)\n",
    "\n",
    "combined = np.zeros_like(dir_binary)\n",
    "a = True\n",
    "#combined[((gradx == 1) & (grady == 1)) | ((mag_binary == 1) & (dir_binary == 1))] = 1\n",
    "#combined[((gradx == 1) & (grady == 1))] = 1\n",
    "#combined[((gradx == 1))] = 1\n",
    "#combined[((gradx == 1)) | ((mag_binary == 1) & (dir_binary == 1))] = 1\n",
    "#combined[((grady == 1)) | ((mag_binary == 1) & (dir_binary == 1))] = 1\n",
    "combined[(((gradx == 1) & a) & (grady == 1)) | ((mag_binary == 1))] = 1\n",
    "#combined[((gradx == 1) & (grady == 1)) | ((dir_binary == 1))] = 1                          #5\n",
    "\n",
    "# Plot the result\n",
    "f, (ax1, ax2) = plt.subplots(1, 2, figsize=(24, 9))\n",
    "f.tight_layout()\n",
    "ax1.imshow(image)\n",
    "ax1.set_title('Original Image', fontsize=50)\n",
    "ax2.imshow(combined, cmap='gray')\n",
    "ax2.set_title('Thresholded Magnitude', fontsize=50)\n",
    "plt.subplots_adjust(left=0., right=1, top=0.9, bottom=0.)"
   ]
  },
  {
   "cell_type": "markdown",
   "metadata": {},
   "source": [
    "### Color thresholds"
   ]
  },
  {
   "cell_type": "code",
   "execution_count": 11,
   "metadata": {},
   "outputs": [],
   "source": [
    "# Define a function that thresholds the H-, L- and S-channel of HLS\n",
    "def hls_select(img, thresh=(0, 255), chan = 's'):\n",
    "    # convert to HLS color space\n",
    "    hls = cv2.cvtColor(img, cv2.COLOR_RGB2HLS)\n",
    "    # extract channels\n",
    "    h_channel = hls[:,:,0]\n",
    "    l_channel = hls[:,:,1]\n",
    "    s_channel = hls[:,:,2]\n",
    "    # channel selection\n",
    "    if chan=='h':\n",
    "        channel = h_channel\n",
    "    if chan=='l':\n",
    "        channel = l_channel\n",
    "    if chan=='s':\n",
    "        channel = s_channel\n",
    "    # apply threshold\n",
    "    binary_output = np.zeros_like(channel)\n",
    "    binary_output[(channel > thresh[0]) & (channel <= thresh[1])] = 1\n",
    "    return binary_output\n",
    "\n",
    "image = mpimg.imread('test_images/test5.jpg')\n",
    "\n",
    "thresh_hls = (90,140)\n",
    "\n",
    "hls_binary = hls_select(image, thresh_hls, chan='s')\n",
    "\n",
    "combined_grad_hls = np.zeros_like(dir_binary)\n",
    "combined_grad_hls[(combined == 1) | (hls_binary == 1)] = 1\n",
    "\n",
    "# Plot the result\n",
    "f, (ax1, ax2) = plt.subplots(1, 2, figsize=(24, 9))\n",
    "f.tight_layout()\n",
    "ax1.imshow(image)\n",
    "ax1.set_title('Original Image', fontsize=50)\n",
    "ax2.imshow(combined_grad_hls, cmap='gray')\n",
    "ax2.set_title('Thresholded Magnitude', fontsize=50)\n",
    "plt.subplots_adjust(left=0., right=1, top=0.9, bottom=0.)"
   ]
  },
  {
   "cell_type": "code",
   "execution_count": 12,
   "metadata": {},
   "outputs": [],
   "source": [
    "# Parameters\n",
    "thresh_dict = {\n",
    "    \"thresh_abs_x\"  : (30, 180),            # threshold for sobel operator in x direction\n",
    "    \"thresh_abs_y\"  : (30, 180),            # threshold for sobel operator in y direction\n",
    "    \"thresh_dir\"    : (np.pi/3, np.pi/2),   # threshold for sobel operator considering gradient direction\n",
    "    \"thresh_mag\"    : (70, 120),            # threshold for sobel operator considering gradient magnitude\n",
    "    \"thresh_h\"      : (1,255),              # threshold for h channel\n",
    "    \"thresh_l\"      : (1,255),              # threshold for l channel\n",
    "    \"thresh_s\"      : (90, 140)             # threshold for s channel\n",
    "}\n",
    "\n",
    "operatoracv_dict = {\n",
    "    \"abs_x_acv\" : True,     # activate thresholding for sobel operator in x direction\n",
    "    \"abs_y_acv\" : True,     # activate thresholding for sobel operator in y direction\n",
    "    \"dir_acv\"   : False,    # activate thresholding for sobel operator considering gradient direction\n",
    "    \"mag_acv\"   : True,     # activate thresholding for sobel operator considering gradient magnitude\n",
    "    \"hls_acv\"   : True      # activate thresholding for hls channels\n",
    "}\n",
    "\n",
    "kernel_dict = {\n",
    "    \"kernel_abs\"    : 3,    # kernel size for sobel operator gradient absolute value\n",
    "    \"kernel_dir\"    : 15,   # kernel size for sobel operator gradient direction\n",
    "    \"kernel_mag\"    : 9     # kernel size for sobel operator gradient magnitude\n",
    "}"
   ]
  },
  {
   "cell_type": "code",
   "execution_count": 6,
   "metadata": {},
   "outputs": [],
   "source": [
    "\n",
    "# Pipeline Thresholding\n",
    "def pipeline_thresholds(img, thresh_dict, operatoracv_dict, kernel_dict, hls_channel=\"s\"):\n",
    "    img = np.copy(img)\n",
    "    # Convert to HLS color space and separate the\n",
    "    hls = cv2.cvtColor(img, cv2.COLOR_RGB2HLS)\n",
    "    l_channel = hls[:,:,1]\n",
    "    s_channel = hls[:,:,2]\n",
    "    # Sobel\n",
    "    if orient == 'x':\n",
    "        sobel_raw = cv2.Sobel(l_channel, cv2.CV_64F, 1, 0) # Take the derivative in x\n",
    "    if orient == 'y':\n",
    "        sobel_raw = cv2.Sobel(l_channel, cv2.CV_64F, 0, 1) # Take the derivative in y\n",
    "    abs_sobel = np.absolute(sobel_raw) # Absolute x derivative to accentuate lines from horizontal / vertical\n",
    "    scaled_sobel = np.uint8(255*abs_sobel/np.max(abs_sobel)) # rescale to 8 bit int\n",
    "\n",
    "    # Threshold x gradient\n",
    "    sxbinary = np.zeros_like(scaled_sobel)\n",
    "    sxbinary[(scaled_sobel >= thresh[0]) & (scaled_sobel <= thresh[1])] = 1\n",
    "\n",
    "    # Threshold color channel\n",
    "    s_binary = np.zeros_like(s_channel)\n",
    "    s_binary[(s_channel >= s_thresh[0]) & (s_channel <= s_thresh[1])] = 1\n",
    "    # Stack each channel\n",
    "    color_binary = np.dstack(( np.zeros_like(sxbinary), sxbinary, s_binary)) * 255\n",
    "    return color_binary"
   ]
  }
 ],
 "metadata": {
  "anaconda-cloud": {},
  "kernelspec": {
   "display_name": "Python 3.7.12 ('carnd-term1')",
   "language": "python",
   "name": "python3"
  },
  "language_info": {
   "codemirror_mode": {
    "name": "ipython",
    "version": 3
   },
   "file_extension": ".py",
   "mimetype": "text/x-python",
   "name": "python",
   "nbconvert_exporter": "python",
   "pygments_lexer": "ipython3",
   "version": "3.7.12"
  },
  "vscode": {
   "interpreter": {
    "hash": "37b8d847ec585cf69977ecdd6579f218c73ed2f8d5352740b35fa80e6da5d219"
   }
  }
 },
 "nbformat": 4,
 "nbformat_minor": 1
}
